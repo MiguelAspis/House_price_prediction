{
  "nbformat": 4,
  "nbformat_minor": 0,
  "metadata": {
    "colab": {
      "name": "House_Price_Prediction.ipynb",
      "provenance": [],
      "collapsed_sections": [
        "tdQ4BW3KL0Zz",
        "4U451JL8M7T4",
        "gRSQQtUFN8EY",
        "TLeGmqC-OTr_",
        "DEbHXu5oPy78"
      ]
    },
    "kernelspec": {
      "name": "python3",
      "display_name": "Python 3"
    }
  },
  "cells": [
    {
      "cell_type": "markdown",
      "metadata": {
        "id": "ham1AinWHqJq",
        "colab_type": "text"
      },
      "source": [
        "House Price Prediction Model With Regression using Keras, Scikit-Learn, pandas and matplotlib"
      ]
    },
    {
      "cell_type": "markdown",
      "metadata": {
        "id": "tdQ4BW3KL0Zz",
        "colab_type": "text"
      },
      "source": [
        "# Imports:"
      ]
    },
    {
      "cell_type": "code",
      "metadata": {
        "id": "Rtq8cJ2FqC7S",
        "colab_type": "code",
        "colab": {}
      },
      "source": [
        "from keras.models import Sequential\n",
        "from keras.layers import Dense\n",
        "from sklearn.model_selection import train_test_split\n",
        "from sklearn.preprocessing import MinMaxScaler\n",
        "from sklearn.preprocessing import StandardScaler\n",
        "import matplotlib.pyplot as plt\n",
        "import pandas as pd"
      ],
      "execution_count": 0,
      "outputs": []
    },
    {
      "cell_type": "markdown",
      "metadata": {
        "id": "XG2-rhgjMujr",
        "colab_type": "text"
      },
      "source": [
        "Reading csv file and uploading it"
      ]
    },
    {
      "cell_type": "code",
      "metadata": {
        "id": "g575d2B6qbZW",
        "colab_type": "code",
        "outputId": "cb62d846-c304-4d1b-f0ec-a8809e051800",
        "colab": {
          "resources": {
            "http://localhost:8080/nbextensions/google.colab/files.js": {
              "data": "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",
              "ok": true,
              "headers": [
                [
                  "content-type",
                  "application/javascript"
                ]
              ],
              "status": 200,
              "status_text": ""
            }
          },
          "base_uri": "https://localhost:8080/",
          "height": 74
        }
      },
      "source": [
        "from google.colab import files\n",
        "uploaded = files.upload()\n",
        "\n",
        "df = pd.read_csv('data.csv')\n"
      ],
      "execution_count": 166,
      "outputs": [
        {
          "output_type": "display_data",
          "data": {
            "text/html": [
              "\n",
              "     <input type=\"file\" id=\"files-2905b322-fac0-457b-b599-689f4e0aa38c\" name=\"files[]\" multiple disabled />\n",
              "     <output id=\"result-2905b322-fac0-457b-b599-689f4e0aa38c\">\n",
              "      Upload widget is only available when the cell has been executed in the\n",
              "      current browser session. Please rerun this cell to enable.\n",
              "      </output>\n",
              "      <script src=\"/nbextensions/google.colab/files.js\"></script> "
            ],
            "text/plain": [
              "<IPython.core.display.HTML object>"
            ]
          },
          "metadata": {
            "tags": []
          }
        },
        {
          "output_type": "stream",
          "text": [
            "Saving data.csv to data (3).csv\n"
          ],
          "name": "stdout"
        }
      ]
    },
    {
      "cell_type": "code",
      "metadata": {
        "id": "WxSkE2u_qxyZ",
        "colab_type": "code",
        "outputId": "9057ae2f-dfdd-42ae-abf7-056d06d978c9",
        "colab": {
          "base_uri": "https://localhost:8080/",
          "height": 411
        }
      },
      "source": [
        "df.tail()"
      ],
      "execution_count": 167,
      "outputs": [
        {
          "output_type": "execute_result",
          "data": {
            "text/html": [
              "<div>\n",
              "<style scoped>\n",
              "    .dataframe tbody tr th:only-of-type {\n",
              "        vertical-align: middle;\n",
              "    }\n",
              "\n",
              "    .dataframe tbody tr th {\n",
              "        vertical-align: top;\n",
              "    }\n",
              "\n",
              "    .dataframe thead th {\n",
              "        text-align: right;\n",
              "    }\n",
              "</style>\n",
              "<table border=\"1\" class=\"dataframe\">\n",
              "  <thead>\n",
              "    <tr style=\"text-align: right;\">\n",
              "      <th></th>\n",
              "      <th>date</th>\n",
              "      <th>price</th>\n",
              "      <th>bedrooms</th>\n",
              "      <th>bathrooms</th>\n",
              "      <th>sqft_living</th>\n",
              "      <th>sqft_lot</th>\n",
              "      <th>floors</th>\n",
              "      <th>waterfront</th>\n",
              "      <th>view</th>\n",
              "      <th>condition</th>\n",
              "      <th>sqft_above</th>\n",
              "      <th>sqft_basement</th>\n",
              "      <th>yr_built</th>\n",
              "      <th>yr_renovated</th>\n",
              "      <th>street</th>\n",
              "      <th>city</th>\n",
              "      <th>statezip</th>\n",
              "      <th>country</th>\n",
              "    </tr>\n",
              "  </thead>\n",
              "  <tbody>\n",
              "    <tr>\n",
              "      <th>4595</th>\n",
              "      <td>2014-07-09 00:00:00</td>\n",
              "      <td>308166.666667</td>\n",
              "      <td>3.0</td>\n",
              "      <td>1.75</td>\n",
              "      <td>1510</td>\n",
              "      <td>6360</td>\n",
              "      <td>1.0</td>\n",
              "      <td>0</td>\n",
              "      <td>0</td>\n",
              "      <td>4</td>\n",
              "      <td>1510</td>\n",
              "      <td>0</td>\n",
              "      <td>1954</td>\n",
              "      <td>1979</td>\n",
              "      <td>501 N 143rd St</td>\n",
              "      <td>Seattle</td>\n",
              "      <td>WA 98133</td>\n",
              "      <td>USA</td>\n",
              "    </tr>\n",
              "    <tr>\n",
              "      <th>4596</th>\n",
              "      <td>2014-07-09 00:00:00</td>\n",
              "      <td>534333.333333</td>\n",
              "      <td>3.0</td>\n",
              "      <td>2.50</td>\n",
              "      <td>1460</td>\n",
              "      <td>7573</td>\n",
              "      <td>2.0</td>\n",
              "      <td>0</td>\n",
              "      <td>0</td>\n",
              "      <td>3</td>\n",
              "      <td>1460</td>\n",
              "      <td>0</td>\n",
              "      <td>1983</td>\n",
              "      <td>2009</td>\n",
              "      <td>14855 SE 10th Pl</td>\n",
              "      <td>Bellevue</td>\n",
              "      <td>WA 98007</td>\n",
              "      <td>USA</td>\n",
              "    </tr>\n",
              "    <tr>\n",
              "      <th>4597</th>\n",
              "      <td>2014-07-09 00:00:00</td>\n",
              "      <td>416904.166667</td>\n",
              "      <td>3.0</td>\n",
              "      <td>2.50</td>\n",
              "      <td>3010</td>\n",
              "      <td>7014</td>\n",
              "      <td>2.0</td>\n",
              "      <td>0</td>\n",
              "      <td>0</td>\n",
              "      <td>3</td>\n",
              "      <td>3010</td>\n",
              "      <td>0</td>\n",
              "      <td>2009</td>\n",
              "      <td>0</td>\n",
              "      <td>759 Ilwaco Pl NE</td>\n",
              "      <td>Renton</td>\n",
              "      <td>WA 98059</td>\n",
              "      <td>USA</td>\n",
              "    </tr>\n",
              "    <tr>\n",
              "      <th>4598</th>\n",
              "      <td>2014-07-10 00:00:00</td>\n",
              "      <td>203400.000000</td>\n",
              "      <td>4.0</td>\n",
              "      <td>2.00</td>\n",
              "      <td>2090</td>\n",
              "      <td>6630</td>\n",
              "      <td>1.0</td>\n",
              "      <td>0</td>\n",
              "      <td>0</td>\n",
              "      <td>3</td>\n",
              "      <td>1070</td>\n",
              "      <td>1020</td>\n",
              "      <td>1974</td>\n",
              "      <td>0</td>\n",
              "      <td>5148 S Creston St</td>\n",
              "      <td>Seattle</td>\n",
              "      <td>WA 98178</td>\n",
              "      <td>USA</td>\n",
              "    </tr>\n",
              "    <tr>\n",
              "      <th>4599</th>\n",
              "      <td>2014-07-10 00:00:00</td>\n",
              "      <td>220600.000000</td>\n",
              "      <td>3.0</td>\n",
              "      <td>2.50</td>\n",
              "      <td>1490</td>\n",
              "      <td>8102</td>\n",
              "      <td>2.0</td>\n",
              "      <td>0</td>\n",
              "      <td>0</td>\n",
              "      <td>4</td>\n",
              "      <td>1490</td>\n",
              "      <td>0</td>\n",
              "      <td>1990</td>\n",
              "      <td>0</td>\n",
              "      <td>18717 SE 258th St</td>\n",
              "      <td>Covington</td>\n",
              "      <td>WA 98042</td>\n",
              "      <td>USA</td>\n",
              "    </tr>\n",
              "  </tbody>\n",
              "</table>\n",
              "</div>"
            ],
            "text/plain": [
              "                     date          price  bedrooms  ...       city  statezip  country\n",
              "4595  2014-07-09 00:00:00  308166.666667       3.0  ...    Seattle  WA 98133      USA\n",
              "4596  2014-07-09 00:00:00  534333.333333       3.0  ...   Bellevue  WA 98007      USA\n",
              "4597  2014-07-09 00:00:00  416904.166667       3.0  ...     Renton  WA 98059      USA\n",
              "4598  2014-07-10 00:00:00  203400.000000       4.0  ...    Seattle  WA 98178      USA\n",
              "4599  2014-07-10 00:00:00  220600.000000       3.0  ...  Covington  WA 98042      USA\n",
              "\n",
              "[5 rows x 18 columns]"
            ]
          },
          "metadata": {
            "tags": []
          },
          "execution_count": 167
        }
      ]
    },
    {
      "cell_type": "markdown",
      "metadata": {
        "id": "4U451JL8M7T4",
        "colab_type": "text"
      },
      "source": [
        "# Cleaning the dataframe"
      ]
    },
    {
      "cell_type": "code",
      "metadata": {
        "id": "Bx2YXmh4q5b5",
        "colab_type": "code",
        "colab": {}
      },
      "source": [
        "#dropping text columns\n",
        "df.drop(['date', 'street', 'city', 'country','yr_built','yr_renovated','statezip'],axis=1, inplace=True)\n",
        "\n",
        "#Rearranging columns\n",
        "column_names = [ 'bedrooms', 'bathrooms', 'sqft_living', 'sqft_lot', 'floors', 'waterfront', 'view', 'condition', 'sqft_above', 'sqft_basement', 'yr_built', 'yr_renovated', 'statezip', 'price']\n",
        "df = df.reindex(columns=column_names)\n",
        "\n",
        "dataset = df.values"
      ],
      "execution_count": 0,
      "outputs": []
    },
    {
      "cell_type": "code",
      "metadata": {
        "id": "sRZXhwbY5qFU",
        "colab_type": "code",
        "colab": {
          "base_uri": "https://localhost:8080/",
          "height": 204
        },
        "outputId": "aa715b42-ba49-4e39-c421-12add743d80f"
      },
      "source": [
        "df.head()"
      ],
      "execution_count": 170,
      "outputs": [
        {
          "output_type": "execute_result",
          "data": {
            "text/html": [
              "<div>\n",
              "<style scoped>\n",
              "    .dataframe tbody tr th:only-of-type {\n",
              "        vertical-align: middle;\n",
              "    }\n",
              "\n",
              "    .dataframe tbody tr th {\n",
              "        vertical-align: top;\n",
              "    }\n",
              "\n",
              "    .dataframe thead th {\n",
              "        text-align: right;\n",
              "    }\n",
              "</style>\n",
              "<table border=\"1\" class=\"dataframe\">\n",
              "  <thead>\n",
              "    <tr style=\"text-align: right;\">\n",
              "      <th></th>\n",
              "      <th>bedrooms</th>\n",
              "      <th>bathrooms</th>\n",
              "      <th>sqft_living</th>\n",
              "      <th>sqft_lot</th>\n",
              "      <th>floors</th>\n",
              "      <th>waterfront</th>\n",
              "      <th>view</th>\n",
              "      <th>condition</th>\n",
              "      <th>sqft_above</th>\n",
              "      <th>sqft_basement</th>\n",
              "      <th>price</th>\n",
              "    </tr>\n",
              "  </thead>\n",
              "  <tbody>\n",
              "    <tr>\n",
              "      <th>0</th>\n",
              "      <td>3.0</td>\n",
              "      <td>1.50</td>\n",
              "      <td>1340</td>\n",
              "      <td>7912</td>\n",
              "      <td>1.5</td>\n",
              "      <td>0</td>\n",
              "      <td>0</td>\n",
              "      <td>3</td>\n",
              "      <td>1340</td>\n",
              "      <td>0</td>\n",
              "      <td>313000.0</td>\n",
              "    </tr>\n",
              "    <tr>\n",
              "      <th>1</th>\n",
              "      <td>5.0</td>\n",
              "      <td>2.50</td>\n",
              "      <td>3650</td>\n",
              "      <td>9050</td>\n",
              "      <td>2.0</td>\n",
              "      <td>0</td>\n",
              "      <td>4</td>\n",
              "      <td>5</td>\n",
              "      <td>3370</td>\n",
              "      <td>280</td>\n",
              "      <td>2384000.0</td>\n",
              "    </tr>\n",
              "    <tr>\n",
              "      <th>2</th>\n",
              "      <td>3.0</td>\n",
              "      <td>2.00</td>\n",
              "      <td>1930</td>\n",
              "      <td>11947</td>\n",
              "      <td>1.0</td>\n",
              "      <td>0</td>\n",
              "      <td>0</td>\n",
              "      <td>4</td>\n",
              "      <td>1930</td>\n",
              "      <td>0</td>\n",
              "      <td>342000.0</td>\n",
              "    </tr>\n",
              "    <tr>\n",
              "      <th>3</th>\n",
              "      <td>3.0</td>\n",
              "      <td>2.25</td>\n",
              "      <td>2000</td>\n",
              "      <td>8030</td>\n",
              "      <td>1.0</td>\n",
              "      <td>0</td>\n",
              "      <td>0</td>\n",
              "      <td>4</td>\n",
              "      <td>1000</td>\n",
              "      <td>1000</td>\n",
              "      <td>420000.0</td>\n",
              "    </tr>\n",
              "    <tr>\n",
              "      <th>4</th>\n",
              "      <td>4.0</td>\n",
              "      <td>2.50</td>\n",
              "      <td>1940</td>\n",
              "      <td>10500</td>\n",
              "      <td>1.0</td>\n",
              "      <td>0</td>\n",
              "      <td>0</td>\n",
              "      <td>4</td>\n",
              "      <td>1140</td>\n",
              "      <td>800</td>\n",
              "      <td>550000.0</td>\n",
              "    </tr>\n",
              "  </tbody>\n",
              "</table>\n",
              "</div>"
            ],
            "text/plain": [
              "   bedrooms  bathrooms  sqft_living  ...  sqft_above  sqft_basement      price\n",
              "0       3.0       1.50         1340  ...        1340              0   313000.0\n",
              "1       5.0       2.50         3650  ...        3370            280  2384000.0\n",
              "2       3.0       2.00         1930  ...        1930              0   342000.0\n",
              "3       3.0       2.25         2000  ...        1000           1000   420000.0\n",
              "4       4.0       2.50         1940  ...        1140            800   550000.0\n",
              "\n",
              "[5 rows x 11 columns]"
            ]
          },
          "metadata": {
            "tags": []
          },
          "execution_count": 170
        }
      ]
    },
    {
      "cell_type": "markdown",
      "metadata": {
        "id": "gRSQQtUFN8EY",
        "colab_type": "text"
      },
      "source": [
        "\n",
        "\n",
        "# Preparing the model\n",
        "\n"
      ]
    },
    {
      "cell_type": "code",
      "metadata": {
        "id": "GvPVr6ODrwwP",
        "colab_type": "code",
        "colab": {}
      },
      "source": [
        "# Setting features and labels\n",
        "X = dataset[:, 0:10]\n",
        "y = dataset[:, 10]"
      ],
      "execution_count": 0,
      "outputs": []
    },
    {
      "cell_type": "code",
      "metadata": {
        "id": "_aFzDOefyojD",
        "colab_type": "code",
        "colab": {
          "base_uri": "https://localhost:8080/",
          "height": 238
        },
        "outputId": "fd1729b1-d7b1-487b-bce6-d7aebb79376a"
      },
      "source": [
        "#Scalling Data\n",
        "standard_scaler = StandardScaler()\n",
        "\n",
        "X_scale =standard_scaler.fit_transform(X)\n",
        "X_scale"
      ],
      "execution_count": 173,
      "outputs": [
        {
          "output_type": "execute_result",
          "data": {
            "text/plain": [
              "array([[-0.44112227, -0.84320364, -0.82997105, ..., -0.6671122 ,\n",
              "        -0.56522378, -0.67246372],\n",
              "       [ 1.75970468,  0.43280154,  1.56852826, ...,  2.28641631,\n",
              "         1.78955903, -0.06912828],\n",
              "       [-0.44112227, -0.20520105, -0.21736733, ...,  0.80965205,\n",
              "         0.11917123, -0.67246372],\n",
              "       ...,\n",
              "       [-0.44112227,  0.43280154,  0.90400897, ..., -0.6671122 ,\n",
              "         1.37196208, -0.67246372],\n",
              "       [ 0.6592912 , -0.20520105, -0.05123751, ..., -0.6671122 ,\n",
              "        -0.87842149,  1.5254011 ],\n",
              "       [-0.44112227,  0.43280154, -0.67422434, ...,  0.80965205,\n",
              "        -0.39122505, -0.67246372]])"
            ]
          },
          "metadata": {
            "tags": []
          },
          "execution_count": 173
        }
      ]
    },
    {
      "cell_type": "code",
      "metadata": {
        "id": "2JwbIqjpy8j6",
        "colab_type": "code",
        "colab": {}
      },
      "source": [
        "#Dividing features into train and validation+testing(80/20)\n",
        "X_train, X_val_and_test, y_train, y_val_and_test = train_test_split(X_scale, y, test_size=0.2)\n",
        "#Dividing int0 validation and testing(50/50)\n",
        "X_val, X_test, y_val, y_test = train_test_split(X_val_and_test, y_val_and_test, test_size=0.5)"
      ],
      "execution_count": 0,
      "outputs": []
    },
    {
      "cell_type": "markdown",
      "metadata": {
        "id": "TLeGmqC-OTr_",
        "colab_type": "text"
      },
      "source": [
        "# ML!\n"
      ]
    },
    {
      "cell_type": "markdown",
      "metadata": {
        "id": "yxOL_vZvO6t0",
        "colab_type": "text"
      },
      "source": [
        "Functions that calculate metrics for regression models"
      ]
    },
    {
      "cell_type": "code",
      "metadata": {
        "id": "m5GErhqO0NCr",
        "colab_type": "code",
        "colab": {}
      },
      "source": [
        "\n",
        "\n",
        "# root mean squared error (rmse) for regression\n",
        "def rmse(y_true, y_pred):\n",
        "    from keras import backend\n",
        "    return backend.sqrt(backend.mean(backend.square(y_pred - y_true), axis=-1))\n",
        "\n",
        "# mean squared error (mse) for regression\n",
        "def mse(y_true, y_pred):\n",
        "    from keras import backend\n",
        "    return backend.mean(backend.square(y_pred - y_true), axis=-1)\n",
        "\n",
        "# coefficient of determination (R^2) for regression\n",
        "def r_square(y_true, y_pred):\n",
        "    from keras import backend as K\n",
        "    SS_res =  K.sum(K.square(y_true - y_pred)) \n",
        "    SS_tot = K.sum(K.square(y_true - K.mean(y_true))) \n",
        "    return (1 - SS_res/(SS_tot + K.epsilon()))\n",
        "\n",
        "def r_square_loss(y_true, y_pred):\n",
        "    from keras import backend as K\n",
        "    SS_res =  K.sum(K.square(y_true - y_pred)) \n",
        "    SS_tot = K.sum(K.square(y_true - K.mean(y_true))) \n",
        "    return 1 - ( 1 - SS_res/(SS_tot + K.epsilon()))\n",
        "\n"
      ],
      "execution_count": 0,
      "outputs": []
    },
    {
      "cell_type": "markdown",
      "metadata": {
        "id": "7ZTevsO2PCSy",
        "colab_type": "text"
      },
      "source": [
        "Creating The Model"
      ]
    },
    {
      "cell_type": "code",
      "metadata": {
        "id": "UxafUg20PANT",
        "colab_type": "code",
        "colab": {}
      },
      "source": [
        "#Sequential Model\n",
        "model = Sequential()\n",
        "#First layer with 20 neurons, and 10 inputs(columns)\n",
        "model.add(Dense(units=20, activation='relu', input_dim=10,kernel_initializer='normal'))\n",
        "#Output Layer with 1 neuron\n",
        "model.add(Dense(units=1,kernel_initializer='normal'))"
      ],
      "execution_count": 0,
      "outputs": []
    },
    {
      "cell_type": "markdown",
      "metadata": {
        "id": "9YQ24W-YPES8",
        "colab_type": "text"
      },
      "source": [
        "Compiling the model"
      ]
    },
    {
      "cell_type": "code",
      "metadata": {
        "id": "HST8-orr1IgZ",
        "colab_type": "code",
        "colab": {}
      },
      "source": [
        "model.compile(optimizer=\"Nadam\", \n",
        "              loss=\"mean_squared_error\", \n",
        "              metrics=[\"mean_squared_error\", \n",
        "                       rmse, \n",
        "                       r_square])"
      ],
      "execution_count": 0,
      "outputs": []
    },
    {
      "cell_type": "markdown",
      "metadata": {
        "id": "9uB5TkcSPHKy",
        "colab_type": "text"
      },
      "source": [
        "Training the model "
      ]
    },
    {
      "cell_type": "code",
      "metadata": {
        "id": "eTYDHNHk1fyN",
        "colab_type": "code",
        "colab": {
          "base_uri": "https://localhost:8080/",
          "height": 1000
        },
        "outputId": "7cb814de-0fdf-49a3-9c37-0a502f52de3b"
      },
      "source": [
        "hist = model.fit(\n",
        "    X_train, y_train,\n",
        "    batch_size=5, epochs=100,\n",
        "    validation_data=(X_val,y_val)\n",
        ")"
      ],
      "execution_count": 185,
      "outputs": [
        {
          "output_type": "stream",
          "text": [
            "Train on 3680 samples, validate on 460 samples\n",
            "Epoch 1/100\n",
            "3680/3680 [==============================] - 1s 256us/step - loss: 3679652.0211 - mean_squared_error: 3679652.2500 - rmse: 1917.1273 - r_square: -9286.5498 - val_loss: 3267478.9620 - val_mean_squared_error: 3267478.7500 - val_rmse: 1805.8130 - val_r_square: -7259.2656\n",
            "Epoch 2/100\n",
            "3680/3680 [==============================] - 1s 224us/step - loss: 2656578.3753 - mean_squared_error: 2656579.5000 - rmse: 1617.3947 - r_square: -6939.0522 - val_loss: 2015661.8791 - val_mean_squared_error: 2015661.7500 - val_rmse: 1397.5172 - val_r_square: -4474.5942\n",
            "Epoch 3/100\n",
            "3680/3680 [==============================] - 1s 225us/step - loss: 1486057.3311 - mean_squared_error: 1486056.3750 - rmse: 1165.6030 - r_square: -3819.8501 - val_loss: 1039305.9219 - val_mean_squared_error: 1039305.8750 - val_rmse: 938.6476 - val_r_square: -2326.0520\n",
            "Epoch 4/100\n",
            "3680/3680 [==============================] - 1s 229us/step - loss: 775750.6711 - mean_squared_error: 775750.3750 - rmse: 787.2960 - r_square: -2291.6804 - val_loss: 580896.6345 - val_mean_squared_error: 580896.6875 - val_rmse: 669.2763 - val_r_square: -1337.5394\n",
            "Epoch 5/100\n",
            "3680/3680 [==============================] - 1s 240us/step - loss: 478251.3470 - mean_squared_error: 478251.2500 - rmse: 592.6617 - r_square: -1339.4448 - val_loss: 384833.9072 - val_mean_squared_error: 384833.9375 - val_rmse: 520.2261 - val_r_square: -918.9102\n",
            "Epoch 6/100\n",
            "3680/3680 [==============================] - 1s 225us/step - loss: 333306.6577 - mean_squared_error: 333306.6562 - rmse: 472.7821 - r_square: -860.6351 - val_loss: 273210.1267 - val_mean_squared_error: 273210.1250 - val_rmse: 414.4928 - val_r_square: -675.0620\n",
            "Epoch 7/100\n",
            "3680/3680 [==============================] - 1s 226us/step - loss: 241205.1871 - mean_squared_error: 241205.1094 - rmse: 377.8703 - r_square: -567.4443 - val_loss: 197891.1625 - val_mean_squared_error: 197891.1094 - val_rmse: 331.2834 - val_r_square: -503.6073\n",
            "Epoch 8/100\n",
            "3680/3680 [==============================] - 1s 241us/step - loss: 178005.8649 - mean_squared_error: 178006.0000 - rmse: 304.8538 - r_square: -544.1721 - val_loss: 145878.0682 - val_mean_squared_error: 145878.0781 - val_rmse: 269.5783 - val_r_square: -379.6512\n",
            "Epoch 9/100\n",
            "3680/3680 [==============================] - 1s 236us/step - loss: 132231.4387 - mean_squared_error: 132231.4062 - rmse: 249.9137 - r_square: -320.0436 - val_loss: 107301.9981 - val_mean_squared_error: 107301.9922 - val_rmse: 225.4140 - val_r_square: -283.7030\n",
            "Epoch 10/100\n",
            "3680/3680 [==============================] - 1s 243us/step - loss: 97746.6935 - mean_squared_error: 97746.6641 - rmse: 206.6048 - r_square: -253.8977 - val_loss: 77245.2934 - val_mean_squared_error: 77245.2969 - val_rmse: 185.4088 - val_r_square: -206.5854\n",
            "Epoch 11/100\n",
            "3680/3680 [==============================] - 1s 247us/step - loss: 71969.9983 - mean_squared_error: 71970.0391 - rmse: 170.2891 - r_square: -171.1002 - val_loss: 54182.0300 - val_mean_squared_error: 54182.0234 - val_rmse: 150.5336 - val_r_square: -147.3159\n",
            "Epoch 12/100\n",
            "3680/3680 [==============================] - 1s 237us/step - loss: 52420.8299 - mean_squared_error: 52420.8359 - rmse: 139.0350 - r_square: -117.2556 - val_loss: 36707.1417 - val_mean_squared_error: 36707.1445 - val_rmse: 119.3830 - val_r_square: -100.3509\n",
            "Epoch 13/100\n",
            "3680/3680 [==============================] - 1s 253us/step - loss: 37726.7519 - mean_squared_error: 37726.7383 - rmse: 111.8149 - r_square: -92.7289 - val_loss: 24447.1801 - val_mean_squared_error: 24447.1699 - val_rmse: 94.5342 - val_r_square: -66.7489\n",
            "Epoch 14/100\n",
            "3680/3680 [==============================] - 1s 254us/step - loss: 27191.0442 - mean_squared_error: 27191.0430 - rmse: 89.0338 - r_square: -53.7512 - val_loss: 16300.3831 - val_mean_squared_error: 16300.3818 - val_rmse: 73.9340 - val_r_square: -44.2802\n",
            "Epoch 15/100\n",
            "3680/3680 [==============================] - 1s 245us/step - loss: 20086.7268 - mean_squared_error: 20086.7227 - rmse: 72.1853 - r_square: -44.0032 - val_loss: 11162.1946 - val_mean_squared_error: 11162.1943 - val_rmse: 60.6717 - val_r_square: -29.9851\n",
            "Epoch 16/100\n",
            "3680/3680 [==============================] - 1s 260us/step - loss: 14907.5010 - mean_squared_error: 14907.4971 - rmse: 60.8349 - r_square: -28.7555 - val_loss: 7721.6177 - val_mean_squared_error: 7721.6172 - val_rmse: 49.9279 - val_r_square: -20.5517\n",
            "Epoch 17/100\n",
            "3680/3680 [==============================] - 1s 248us/step - loss: 11210.3429 - mean_squared_error: 11210.3447 - rmse: 51.4961 - r_square: -26.1523 - val_loss: 5445.2541 - val_mean_squared_error: 5445.2539 - val_rmse: 41.7454 - val_r_square: -14.0735\n",
            "Epoch 18/100\n",
            "3680/3680 [==============================] - 1s 264us/step - loss: 8615.7686 - mean_squared_error: 8615.7666 - rmse: 44.4584 - r_square: -19.8175 - val_loss: 4048.6932 - val_mean_squared_error: 4048.6934 - val_rmse: 35.1114 - val_r_square: -10.0583\n",
            "Epoch 19/100\n",
            "3680/3680 [==============================] - 1s 240us/step - loss: 6668.6119 - mean_squared_error: 6668.6133 - rmse: 38.9689 - r_square: -14.4026 - val_loss: 3404.3333 - val_mean_squared_error: 3404.3337 - val_rmse: 34.4433 - val_r_square: -8.0932\n",
            "Epoch 20/100\n",
            "3680/3680 [==============================] - 1s 243us/step - loss: 5229.6227 - mean_squared_error: 5229.6216 - rmse: 34.8971 - r_square: -13.4148 - val_loss: 2622.6637 - val_mean_squared_error: 2622.6636 - val_rmse: 28.7273 - val_r_square: -5.9388\n",
            "Epoch 21/100\n",
            "3680/3680 [==============================] - 1s 243us/step - loss: 4138.9029 - mean_squared_error: 4138.9033 - rmse: 31.4832 - r_square: -8.9813 - val_loss: 2144.6074 - val_mean_squared_error: 2144.6074 - val_rmse: 26.4564 - val_r_square: -4.5853\n",
            "Epoch 22/100\n",
            "3680/3680 [==============================] - 1s 232us/step - loss: 3304.9375 - mean_squared_error: 3304.9353 - rmse: 28.9208 - r_square: -5.8492 - val_loss: 1730.9467 - val_mean_squared_error: 1730.9467 - val_rmse: 24.7056 - val_r_square: -3.5050\n",
            "Epoch 23/100\n",
            "3680/3680 [==============================] - 1s 230us/step - loss: 2667.2618 - mean_squared_error: 2667.2625 - rmse: 26.7730 - r_square: -3.6510 - val_loss: 1464.3718 - val_mean_squared_error: 1464.3722 - val_rmse: 22.0667 - val_r_square: -2.7054\n",
            "Epoch 24/100\n",
            "3680/3680 [==============================] - 1s 230us/step - loss: 2166.9610 - mean_squared_error: 2166.9617 - rmse: 24.7680 - r_square: -3.4236 - val_loss: 1237.3797 - val_mean_squared_error: 1237.3798 - val_rmse: 21.5005 - val_r_square: -2.1134\n",
            "Epoch 25/100\n",
            "3680/3680 [==============================] - 1s 223us/step - loss: 1822.9354 - mean_squared_error: 1822.9354 - rmse: 23.5141 - r_square: -3.0699 - val_loss: 1075.4562 - val_mean_squared_error: 1075.4563 - val_rmse: 21.0643 - val_r_square: -1.6832\n",
            "Epoch 26/100\n",
            "3680/3680 [==============================] - 1s 254us/step - loss: 1532.0410 - mean_squared_error: 1532.0422 - rmse: 22.4289 - r_square: -1.8015 - val_loss: 986.8124 - val_mean_squared_error: 986.8123 - val_rmse: 19.7552 - val_r_square: -1.4482\n",
            "Epoch 27/100\n",
            "3680/3680 [==============================] - 1s 255us/step - loss: 1318.7003 - mean_squared_error: 1318.7007 - rmse: 21.4785 - r_square: -2.0244 - val_loss: 889.7575 - val_mean_squared_error: 889.7578 - val_rmse: 18.9275 - val_r_square: -1.1865\n",
            "Epoch 28/100\n",
            "3680/3680 [==============================] - 1s 225us/step - loss: 1142.6149 - mean_squared_error: 1142.6155 - rmse: 20.7011 - r_square: -3.3144 - val_loss: 830.3094 - val_mean_squared_error: 830.3094 - val_rmse: 19.2551 - val_r_square: -0.9826\n",
            "Epoch 29/100\n",
            "3680/3680 [==============================] - 1s 229us/step - loss: 1027.3255 - mean_squared_error: 1027.3259 - rmse: 20.1793 - r_square: -0.7768 - val_loss: 785.0831 - val_mean_squared_error: 785.0831 - val_rmse: 18.7231 - val_r_square: -0.8894\n",
            "Epoch 30/100\n",
            "3680/3680 [==============================] - 1s 239us/step - loss: 922.4791 - mean_squared_error: 922.4791 - rmse: 19.7010 - r_square: -1.0470 - val_loss: 796.1817 - val_mean_squared_error: 796.1815 - val_rmse: 18.1626 - val_r_square: -0.9630\n",
            "Epoch 31/100\n",
            "3680/3680 [==============================] - 1s 248us/step - loss: 844.7406 - mean_squared_error: 844.7407 - rmse: 19.3790 - r_square: -0.7370 - val_loss: 720.9162 - val_mean_squared_error: 720.9164 - val_rmse: 18.4881 - val_r_square: -0.7206\n",
            "Epoch 32/100\n",
            "3680/3680 [==============================] - 1s 227us/step - loss: 787.5916 - mean_squared_error: 787.5920 - rmse: 19.1562 - r_square: -0.6603 - val_loss: 678.1963 - val_mean_squared_error: 678.1962 - val_rmse: 18.4780 - val_r_square: -0.5685\n",
            "Epoch 33/100\n",
            "3680/3680 [==============================] - 1s 223us/step - loss: 748.2092 - mean_squared_error: 748.2094 - rmse: 18.8438 - r_square: -0.8111 - val_loss: 669.0788 - val_mean_squared_error: 669.0789 - val_rmse: 19.0419 - val_r_square: -0.5363\n",
            "Epoch 34/100\n",
            "3680/3680 [==============================] - 1s 233us/step - loss: 715.2310 - mean_squared_error: 715.2316 - rmse: 18.7562 - r_square: -0.3650 - val_loss: 655.2426 - val_mean_squared_error: 655.2426 - val_rmse: 18.0476 - val_r_square: -0.4766\n",
            "Epoch 35/100\n",
            "3680/3680 [==============================] - 1s 222us/step - loss: 682.8831 - mean_squared_error: 682.8828 - rmse: 18.3997 - r_square: -0.7657 - val_loss: 640.1174 - val_mean_squared_error: 640.1174 - val_rmse: 17.6284 - val_r_square: -0.4400\n",
            "Epoch 36/100\n",
            "3680/3680 [==============================] - 1s 235us/step - loss: 664.8820 - mean_squared_error: 664.8820 - rmse: 18.3388 - r_square: -0.3750 - val_loss: 632.4157 - val_mean_squared_error: 632.4155 - val_rmse: 18.1290 - val_r_square: -0.4270\n",
            "Epoch 37/100\n",
            "3680/3680 [==============================] - 1s 231us/step - loss: 645.9695 - mean_squared_error: 645.9697 - rmse: 18.2176 - r_square: -0.7315 - val_loss: 618.2921 - val_mean_squared_error: 618.2921 - val_rmse: 18.0949 - val_r_square: -0.3772\n",
            "Epoch 38/100\n",
            "3680/3680 [==============================] - 1s 223us/step - loss: 635.0969 - mean_squared_error: 635.0967 - rmse: 18.1951 - r_square: -0.3666 - val_loss: 602.1453 - val_mean_squared_error: 602.1454 - val_rmse: 17.6301 - val_r_square: -0.3317\n",
            "Epoch 39/100\n",
            "3680/3680 [==============================] - 1s 225us/step - loss: 619.9746 - mean_squared_error: 619.9747 - rmse: 18.0648 - r_square: -0.2784 - val_loss: 589.7700 - val_mean_squared_error: 589.7701 - val_rmse: 18.0536 - val_r_square: -0.2726\n",
            "Epoch 40/100\n",
            "3680/3680 [==============================] - 1s 221us/step - loss: 617.3329 - mean_squared_error: 617.3327 - rmse: 17.9720 - r_square: -0.1999 - val_loss: 605.6426 - val_mean_squared_error: 605.6428 - val_rmse: 19.1061 - val_r_square: -0.2898\n",
            "Epoch 41/100\n",
            "3680/3680 [==============================] - 1s 231us/step - loss: 605.6870 - mean_squared_error: 605.6871 - rmse: 17.9356 - r_square: -0.0335 - val_loss: 599.8761 - val_mean_squared_error: 599.8761 - val_rmse: 17.5360 - val_r_square: -0.3279\n",
            "Epoch 42/100\n",
            "3680/3680 [==============================] - 1s 240us/step - loss: 605.2022 - mean_squared_error: 605.2020 - rmse: 17.9831 - r_square: -0.1424 - val_loss: 621.4457 - val_mean_squared_error: 621.4458 - val_rmse: 18.8089 - val_r_square: -0.3526\n",
            "Epoch 43/100\n",
            "3680/3680 [==============================] - 1s 227us/step - loss: 595.1558 - mean_squared_error: 595.1556 - rmse: 17.8222 - r_square: -0.1263 - val_loss: 635.9326 - val_mean_squared_error: 635.9326 - val_rmse: 19.3259 - val_r_square: -0.4447\n",
            "Epoch 44/100\n",
            "3680/3680 [==============================] - 1s 229us/step - loss: 591.4286 - mean_squared_error: 591.4286 - rmse: 17.8754 - r_square: -0.1388 - val_loss: 574.5836 - val_mean_squared_error: 574.5836 - val_rmse: 17.5303 - val_r_square: -0.2198\n",
            "Epoch 45/100\n",
            "3680/3680 [==============================] - 1s 227us/step - loss: 589.2534 - mean_squared_error: 589.2534 - rmse: 17.8193 - r_square: -0.3411 - val_loss: 573.9345 - val_mean_squared_error: 573.9344 - val_rmse: 17.6798 - val_r_square: -0.2407\n",
            "Epoch 46/100\n",
            "3680/3680 [==============================] - 1s 248us/step - loss: 583.0454 - mean_squared_error: 583.0453 - rmse: 17.7248 - r_square: -0.6824 - val_loss: 575.5653 - val_mean_squared_error: 575.5651 - val_rmse: 17.9097 - val_r_square: -0.2049\n",
            "Epoch 47/100\n",
            "3680/3680 [==============================] - 1s 233us/step - loss: 583.9511 - mean_squared_error: 583.9511 - rmse: 17.8062 - r_square: -0.0972 - val_loss: 603.8870 - val_mean_squared_error: 603.8871 - val_rmse: 19.0323 - val_r_square: -0.3260\n",
            "Epoch 48/100\n",
            "3680/3680 [==============================] - 1s 223us/step - loss: 579.4064 - mean_squared_error: 579.4064 - rmse: 17.8780 - r_square: -0.1146 - val_loss: 583.4084 - val_mean_squared_error: 583.4084 - val_rmse: 17.5003 - val_r_square: -0.2842\n",
            "Epoch 49/100\n",
            "3680/3680 [==============================] - 1s 224us/step - loss: 582.1126 - mean_squared_error: 582.1125 - rmse: 17.8130 - r_square: -0.0903 - val_loss: 585.6353 - val_mean_squared_error: 585.6353 - val_rmse: 18.1330 - val_r_square: -0.2942\n",
            "Epoch 50/100\n",
            "3680/3680 [==============================] - 1s 234us/step - loss: 575.4938 - mean_squared_error: 575.4933 - rmse: 17.6743 - r_square: -0.0140 - val_loss: 573.4858 - val_mean_squared_error: 573.4858 - val_rmse: 17.7573 - val_r_square: -0.2485\n",
            "Epoch 51/100\n",
            "3680/3680 [==============================] - 1s 226us/step - loss: 568.3939 - mean_squared_error: 568.3942 - rmse: 17.6861 - r_square: -0.1104 - val_loss: 578.5390 - val_mean_squared_error: 578.5391 - val_rmse: 18.6316 - val_r_square: -0.2418\n",
            "Epoch 52/100\n",
            "3680/3680 [==============================] - 1s 226us/step - loss: 567.7136 - mean_squared_error: 567.7135 - rmse: 17.7289 - r_square: -0.0093 - val_loss: 575.8628 - val_mean_squared_error: 575.8626 - val_rmse: 17.6009 - val_r_square: -0.2383\n",
            "Epoch 53/100\n",
            "3680/3680 [==============================] - 1s 242us/step - loss: 567.0209 - mean_squared_error: 567.0206 - rmse: 17.6676 - r_square: -0.4923 - val_loss: 583.8853 - val_mean_squared_error: 583.8853 - val_rmse: 17.6936 - val_r_square: -0.2614\n",
            "Epoch 54/100\n",
            "3680/3680 [==============================] - 1s 219us/step - loss: 564.1173 - mean_squared_error: 564.1176 - rmse: 17.6065 - r_square: -0.3317 - val_loss: 579.8881 - val_mean_squared_error: 579.8881 - val_rmse: 17.7726 - val_r_square: -0.2630\n",
            "Epoch 55/100\n",
            "3680/3680 [==============================] - 1s 237us/step - loss: 565.8958 - mean_squared_error: 565.8957 - rmse: 17.6422 - r_square: 0.0046 - val_loss: 580.9612 - val_mean_squared_error: 580.9611 - val_rmse: 17.9637 - val_r_square: -0.2320\n",
            "Epoch 56/100\n",
            "3680/3680 [==============================] - 1s 230us/step - loss: 566.9990 - mean_squared_error: 566.9990 - rmse: 17.5915 - r_square: -0.0038 - val_loss: 580.5322 - val_mean_squared_error: 580.5322 - val_rmse: 18.2403 - val_r_square: -0.2496\n",
            "Epoch 57/100\n",
            "3680/3680 [==============================] - 1s 227us/step - loss: 561.0500 - mean_squared_error: 561.0499 - rmse: 17.6550 - r_square: -0.0762 - val_loss: 585.4759 - val_mean_squared_error: 585.4760 - val_rmse: 17.7407 - val_r_square: -0.2718\n",
            "Epoch 58/100\n",
            "3680/3680 [==============================] - 1s 237us/step - loss: 562.0362 - mean_squared_error: 562.0358 - rmse: 17.6944 - r_square: -0.1038 - val_loss: 565.5886 - val_mean_squared_error: 565.5888 - val_rmse: 17.9899 - val_r_square: -0.2108\n",
            "Epoch 59/100\n",
            "3680/3680 [==============================] - 1s 223us/step - loss: 557.4113 - mean_squared_error: 557.4115 - rmse: 17.6564 - r_square: -0.0152 - val_loss: 564.6727 - val_mean_squared_error: 564.6727 - val_rmse: 18.6314 - val_r_square: -0.2021\n",
            "Epoch 60/100\n",
            "3680/3680 [==============================] - 1s 223us/step - loss: 558.4081 - mean_squared_error: 558.4084 - rmse: 17.6588 - r_square: 0.0102 - val_loss: 604.3615 - val_mean_squared_error: 604.3616 - val_rmse: 19.0866 - val_r_square: -0.2786\n",
            "Epoch 61/100\n",
            "3680/3680 [==============================] - 1s 227us/step - loss: 560.1187 - mean_squared_error: 560.1188 - rmse: 17.6503 - r_square: -0.0490 - val_loss: 578.1328 - val_mean_squared_error: 578.1329 - val_rmse: 17.8357 - val_r_square: -0.2472\n",
            "Epoch 62/100\n",
            "3680/3680 [==============================] - 1s 229us/step - loss: 557.2553 - mean_squared_error: 557.2556 - rmse: 17.5990 - r_square: -0.0782 - val_loss: 555.2885 - val_mean_squared_error: 555.2885 - val_rmse: 18.5229 - val_r_square: -0.1913\n",
            "Epoch 63/100\n",
            "3680/3680 [==============================] - 1s 222us/step - loss: 555.3390 - mean_squared_error: 555.3389 - rmse: 17.6317 - r_square: -0.0730 - val_loss: 565.3168 - val_mean_squared_error: 565.3169 - val_rmse: 18.0408 - val_r_square: -0.1968\n",
            "Epoch 64/100\n",
            "3680/3680 [==============================] - 1s 240us/step - loss: 553.8471 - mean_squared_error: 553.8472 - rmse: 17.5027 - r_square: -0.3545 - val_loss: 565.0776 - val_mean_squared_error: 565.0776 - val_rmse: 18.0085 - val_r_square: -0.2355\n",
            "Epoch 65/100\n",
            "3680/3680 [==============================] - 1s 234us/step - loss: 556.8017 - mean_squared_error: 556.8015 - rmse: 17.6795 - r_square: -0.0199 - val_loss: 560.4305 - val_mean_squared_error: 560.4304 - val_rmse: 18.5526 - val_r_square: -0.2036\n",
            "Epoch 66/100\n",
            "3680/3680 [==============================] - 1s 229us/step - loss: 554.3552 - mean_squared_error: 554.3551 - rmse: 17.6299 - r_square: -0.0347 - val_loss: 562.5659 - val_mean_squared_error: 562.5659 - val_rmse: 17.9278 - val_r_square: -0.2193\n",
            "Epoch 67/100\n",
            "3680/3680 [==============================] - 1s 219us/step - loss: 553.3013 - mean_squared_error: 553.3012 - rmse: 17.6143 - r_square: -0.0853 - val_loss: 564.3132 - val_mean_squared_error: 564.3131 - val_rmse: 18.5494 - val_r_square: -0.2272\n",
            "Epoch 68/100\n",
            "3680/3680 [==============================] - 1s 240us/step - loss: 550.2798 - mean_squared_error: 550.2801 - rmse: 17.5771 - r_square: -0.0710 - val_loss: 573.7430 - val_mean_squared_error: 573.7430 - val_rmse: 17.8124 - val_r_square: -0.2457\n",
            "Epoch 69/100\n",
            "3680/3680 [==============================] - 1s 227us/step - loss: 548.2850 - mean_squared_error: 548.2848 - rmse: 17.6013 - r_square: -0.1533 - val_loss: 567.3617 - val_mean_squared_error: 567.3616 - val_rmse: 17.8754 - val_r_square: -0.2161\n",
            "Epoch 70/100\n",
            "3680/3680 [==============================] - 1s 227us/step - loss: 550.5528 - mean_squared_error: 550.5528 - rmse: 17.5743 - r_square: -0.0945 - val_loss: 550.7654 - val_mean_squared_error: 550.7653 - val_rmse: 17.8756 - val_r_square: -0.1526\n",
            "Epoch 71/100\n",
            "3680/3680 [==============================] - 1s 235us/step - loss: 551.2421 - mean_squared_error: 551.2418 - rmse: 17.6469 - r_square: 0.0210 - val_loss: 561.3142 - val_mean_squared_error: 561.3143 - val_rmse: 18.1920 - val_r_square: -0.2293\n",
            "Epoch 72/100\n",
            "3680/3680 [==============================] - 1s 226us/step - loss: 551.2794 - mean_squared_error: 551.2796 - rmse: 17.6519 - r_square: 0.0095 - val_loss: 563.0240 - val_mean_squared_error: 563.0240 - val_rmse: 17.7998 - val_r_square: -0.2235\n",
            "Epoch 73/100\n",
            "3680/3680 [==============================] - 1s 251us/step - loss: 548.8488 - mean_squared_error: 548.8489 - rmse: 17.5640 - r_square: -0.0311 - val_loss: 563.0098 - val_mean_squared_error: 563.0097 - val_rmse: 17.6112 - val_r_square: -0.2130\n",
            "Epoch 74/100\n",
            "3680/3680 [==============================] - 1s 219us/step - loss: 552.7985 - mean_squared_error: 552.7985 - rmse: 17.5922 - r_square: 0.0108 - val_loss: 573.0921 - val_mean_squared_error: 573.0921 - val_rmse: 17.8342 - val_r_square: -0.2134\n",
            "Epoch 75/100\n",
            "3680/3680 [==============================] - 1s 227us/step - loss: 547.5073 - mean_squared_error: 547.5073 - rmse: 17.5471 - r_square: -0.0517 - val_loss: 553.3672 - val_mean_squared_error: 553.3673 - val_rmse: 17.6212 - val_r_square: -0.1922\n",
            "Epoch 76/100\n",
            "3680/3680 [==============================] - 1s 226us/step - loss: 545.7338 - mean_squared_error: 545.7336 - rmse: 17.5214 - r_square: -0.0293 - val_loss: 576.0777 - val_mean_squared_error: 576.0777 - val_rmse: 17.2145 - val_r_square: -0.2599\n",
            "Epoch 77/100\n",
            "3680/3680 [==============================] - 1s 237us/step - loss: 548.5830 - mean_squared_error: 548.5831 - rmse: 17.4902 - r_square: 0.0034 - val_loss: 564.3492 - val_mean_squared_error: 564.3493 - val_rmse: 17.7137 - val_r_square: -0.2469\n",
            "Epoch 78/100\n",
            "3680/3680 [==============================] - 1s 220us/step - loss: 552.2287 - mean_squared_error: 552.2288 - rmse: 17.6404 - r_square: -0.1069 - val_loss: 548.3190 - val_mean_squared_error: 548.3190 - val_rmse: 18.0120 - val_r_square: -0.1525\n",
            "Epoch 79/100\n",
            "3680/3680 [==============================] - 1s 221us/step - loss: 544.7474 - mean_squared_error: 544.7474 - rmse: 17.4648 - r_square: 0.0038 - val_loss: 554.0047 - val_mean_squared_error: 554.0046 - val_rmse: 18.0473 - val_r_square: -0.1689\n",
            "Epoch 80/100\n",
            "3680/3680 [==============================] - 1s 225us/step - loss: 546.9760 - mean_squared_error: 546.9764 - rmse: 17.5760 - r_square: -0.0464 - val_loss: 565.0670 - val_mean_squared_error: 565.0670 - val_rmse: 18.3690 - val_r_square: -0.1681\n",
            "Epoch 81/100\n",
            "3680/3680 [==============================] - 1s 226us/step - loss: 545.6331 - mean_squared_error: 545.6332 - rmse: 17.5265 - r_square: -0.1097 - val_loss: 567.3642 - val_mean_squared_error: 567.3643 - val_rmse: 17.9259 - val_r_square: -0.1819\n",
            "Epoch 82/100\n",
            "3680/3680 [==============================] - 1s 234us/step - loss: 549.4131 - mean_squared_error: 549.4133 - rmse: 17.5925 - r_square: -0.1580 - val_loss: 590.9302 - val_mean_squared_error: 590.9302 - val_rmse: 18.8014 - val_r_square: -0.2668\n",
            "Epoch 83/100\n",
            "3680/3680 [==============================] - 1s 222us/step - loss: 544.5202 - mean_squared_error: 544.5206 - rmse: 17.5051 - r_square: -0.0290 - val_loss: 592.7279 - val_mean_squared_error: 592.7278 - val_rmse: 17.6719 - val_r_square: -0.3250\n",
            "Epoch 84/100\n",
            "3680/3680 [==============================] - 1s 232us/step - loss: 547.6646 - mean_squared_error: 547.6646 - rmse: 17.4928 - r_square: -0.0045 - val_loss: 560.1021 - val_mean_squared_error: 560.1022 - val_rmse: 18.6009 - val_r_square: -0.2022\n",
            "Epoch 85/100\n",
            "3680/3680 [==============================] - 1s 234us/step - loss: 546.1629 - mean_squared_error: 546.1625 - rmse: 17.6269 - r_square: -0.1179 - val_loss: 565.1801 - val_mean_squared_error: 565.1799 - val_rmse: 17.9189 - val_r_square: -0.2049\n",
            "Epoch 86/100\n",
            "3680/3680 [==============================] - 1s 222us/step - loss: 548.1849 - mean_squared_error: 548.1851 - rmse: 17.6071 - r_square: -0.0315 - val_loss: 576.0820 - val_mean_squared_error: 576.0819 - val_rmse: 18.6100 - val_r_square: -0.2375\n",
            "Epoch 87/100\n",
            "3680/3680 [==============================] - 1s 228us/step - loss: 541.7385 - mean_squared_error: 541.7384 - rmse: 17.5346 - r_square: -0.0301 - val_loss: 544.5448 - val_mean_squared_error: 544.5447 - val_rmse: 18.0678 - val_r_square: -0.1597\n",
            "Epoch 88/100\n",
            "3680/3680 [==============================] - 1s 220us/step - loss: 542.6606 - mean_squared_error: 542.6608 - rmse: 17.5136 - r_square: -0.0116 - val_loss: 545.2694 - val_mean_squared_error: 545.2694 - val_rmse: 17.4347 - val_r_square: -0.1636\n",
            "Epoch 89/100\n",
            "3680/3680 [==============================] - 1s 228us/step - loss: 546.7426 - mean_squared_error: 546.7424 - rmse: 17.6200 - r_square: -0.0589 - val_loss: 559.6745 - val_mean_squared_error: 559.6744 - val_rmse: 17.5394 - val_r_square: -0.1821\n",
            "Epoch 90/100\n",
            "3680/3680 [==============================] - 1s 231us/step - loss: 541.8043 - mean_squared_error: 541.8042 - rmse: 17.4347 - r_square: -0.0177 - val_loss: 548.1441 - val_mean_squared_error: 548.1442 - val_rmse: 18.1862 - val_r_square: -0.1260\n",
            "Epoch 91/100\n",
            "3680/3680 [==============================] - 1s 222us/step - loss: 543.7188 - mean_squared_error: 543.7189 - rmse: 17.5761 - r_square: -0.0551 - val_loss: 541.9263 - val_mean_squared_error: 541.9263 - val_rmse: 17.5585 - val_r_square: -0.1494\n",
            "Epoch 92/100\n",
            "3680/3680 [==============================] - 1s 219us/step - loss: 546.3352 - mean_squared_error: 546.3351 - rmse: 17.6251 - r_square: -0.0977 - val_loss: 535.1588 - val_mean_squared_error: 535.1589 - val_rmse: 17.5171 - val_r_square: -0.1368\n",
            "Epoch 93/100\n",
            "3680/3680 [==============================] - 1s 222us/step - loss: 541.0771 - mean_squared_error: 541.0774 - rmse: 17.4668 - r_square: 0.0127 - val_loss: 544.9722 - val_mean_squared_error: 544.9723 - val_rmse: 17.5701 - val_r_square: -0.1634\n",
            "Epoch 94/100\n",
            "3680/3680 [==============================] - 1s 220us/step - loss: 544.4438 - mean_squared_error: 544.4440 - rmse: 17.5348 - r_square: 0.0296 - val_loss: 546.5597 - val_mean_squared_error: 546.5598 - val_rmse: 17.6785 - val_r_square: -0.1784\n",
            "Epoch 95/100\n",
            "3680/3680 [==============================] - 1s 222us/step - loss: 539.7676 - mean_squared_error: 539.7679 - rmse: 17.4801 - r_square: -0.0209 - val_loss: 549.4049 - val_mean_squared_error: 549.4052 - val_rmse: 17.2209 - val_r_square: -0.1524\n",
            "Epoch 96/100\n",
            "3680/3680 [==============================] - 1s 220us/step - loss: 537.9536 - mean_squared_error: 537.9535 - rmse: 17.4139 - r_square: -0.0314 - val_loss: 546.3091 - val_mean_squared_error: 546.3090 - val_rmse: 17.7514 - val_r_square: -0.1660\n",
            "Epoch 97/100\n",
            "3680/3680 [==============================] - 1s 223us/step - loss: 542.4704 - mean_squared_error: 542.4706 - rmse: 17.4674 - r_square: -0.0021 - val_loss: 553.8426 - val_mean_squared_error: 553.8427 - val_rmse: 18.1354 - val_r_square: -0.1780\n",
            "Epoch 98/100\n",
            "3680/3680 [==============================] - 1s 223us/step - loss: 541.0373 - mean_squared_error: 541.0371 - rmse: 17.5108 - r_square: -0.0153 - val_loss: 569.0107 - val_mean_squared_error: 569.0109 - val_rmse: 18.1083 - val_r_square: -0.2576\n",
            "Epoch 99/100\n",
            "3680/3680 [==============================] - 1s 238us/step - loss: 545.0643 - mean_squared_error: 545.0645 - rmse: 17.6013 - r_square: -0.0760 - val_loss: 552.9754 - val_mean_squared_error: 552.9755 - val_rmse: 18.0703 - val_r_square: -0.1709\n",
            "Epoch 100/100\n",
            "3680/3680 [==============================] - 1s 230us/step - loss: 540.0354 - mean_squared_error: 540.0352 - rmse: 17.5455 - r_square: 0.0340 - val_loss: 560.6772 - val_mean_squared_error: 560.6772 - val_rmse: 18.3430 - val_r_square: -0.2100\n"
          ],
          "name": "stdout"
        }
      ]
    },
    {
      "cell_type": "markdown",
      "metadata": {
        "id": "0bS5xvPuPhIu",
        "colab_type": "text"
      },
      "source": [
        "Evaluating the model in each metric"
      ]
    },
    {
      "cell_type": "code",
      "metadata": {
        "id": "u-v7Blxx1z7_",
        "colab_type": "code",
        "colab": {
          "base_uri": "https://localhost:8080/",
          "height": 51
        },
        "outputId": "bb2a6c10-5232-42d0-f79c-e4efba5b405c"
      },
      "source": [
        "model.evaluate(X_test,y_test)"
      ],
      "execution_count": 186,
      "outputs": [
        {
          "output_type": "stream",
          "text": [
            "460/460 [==============================] - 0s 42us/step\n"
          ],
          "name": "stdout"
        },
        {
          "output_type": "execute_result",
          "data": {
            "text/plain": [
              "[526.8449189559273, 526.8448486328125, 17.608562469482422, 0.3849080801010132]"
            ]
          },
          "metadata": {
            "tags": []
          },
          "execution_count": 186
        }
      ]
    },
    {
      "cell_type": "markdown",
      "metadata": {
        "id": "acFaMzqXPhSh",
        "colab_type": "text"
      },
      "source": [
        "Predicting "
      ]
    },
    {
      "cell_type": "code",
      "metadata": {
        "id": "MgAAUCoYBP50",
        "colab_type": "code",
        "colab": {
          "base_uri": "https://localhost:8080/",
          "height": 1000
        },
        "outputId": "e1dcb55e-e4a4-4f31-da05-41110e152b1e"
      },
      "source": [
        "prediction = model.predict(X_test)\n",
        "prediction"
      ],
      "execution_count": 187,
      "outputs": [
        {
          "output_type": "execute_result",
          "data": {
            "text/plain": [
              "array([[1950.013 ],\n",
              "       [1962.5292],\n",
              "       [1989.5701],\n",
              "       [1989.258 ],\n",
              "       [1987.1095],\n",
              "       [1948.0967],\n",
              "       [1956.9705],\n",
              "       [1984.7042],\n",
              "       [1957.344 ],\n",
              "       [1962.4834],\n",
              "       [1974.1777],\n",
              "       [1956.7556],\n",
              "       [1970.845 ],\n",
              "       [1952.9792],\n",
              "       [1939.2314],\n",
              "       [1946.0338],\n",
              "       [1955.1252],\n",
              "       [1959.4265],\n",
              "       [1979.8777],\n",
              "       [1988.9396],\n",
              "       [1942.8738],\n",
              "       [1990.6405],\n",
              "       [1990.8895],\n",
              "       [1982.669 ],\n",
              "       [1990.9946],\n",
              "       [1942.7124],\n",
              "       [1943.2657],\n",
              "       [1968.685 ],\n",
              "       [1967.2683],\n",
              "       [1978.4531],\n",
              "       [1955.44  ],\n",
              "       [1986.058 ],\n",
              "       [1996.889 ],\n",
              "       [1952.5944],\n",
              "       [1942.522 ],\n",
              "       [1941.6346],\n",
              "       [1993.2465],\n",
              "       [1939.3293],\n",
              "       [2001.1538],\n",
              "       [1958.3353],\n",
              "       [1945.5107],\n",
              "       [1984.4517],\n",
              "       [1973.9321],\n",
              "       [1950.7303],\n",
              "       [1990.4653],\n",
              "       [1994.8958],\n",
              "       [1946.644 ],\n",
              "       [1964.5774],\n",
              "       [1988.1555],\n",
              "       [1987.4951],\n",
              "       [1948.1794],\n",
              "       [1975.896 ],\n",
              "       [1956.7355],\n",
              "       [1933.2383],\n",
              "       [1939.9478],\n",
              "       [1957.1641],\n",
              "       [1984.0898],\n",
              "       [1942.6289],\n",
              "       [1959.1107],\n",
              "       [1969.5986],\n",
              "       [1950.8995],\n",
              "       [1971.595 ],\n",
              "       [1944.9823],\n",
              "       [2002.8494],\n",
              "       [1958.9141],\n",
              "       [1991.9863],\n",
              "       [1965.3196],\n",
              "       [1955.9451],\n",
              "       [1955.7896],\n",
              "       [1960.596 ],\n",
              "       [1944.0673],\n",
              "       [1991.437 ],\n",
              "       [1977.229 ],\n",
              "       [1980.4563],\n",
              "       [1957.3533],\n",
              "       [1951.7505],\n",
              "       [1983.5988],\n",
              "       [1992.5549],\n",
              "       [1987.3677],\n",
              "       [1982.3528],\n",
              "       [1939.0662],\n",
              "       [1955.3678],\n",
              "       [1943.3054],\n",
              "       [1969.6357],\n",
              "       [1952.5153],\n",
              "       [2017.5212],\n",
              "       [1957.2815],\n",
              "       [1989.4985],\n",
              "       [1954.1702],\n",
              "       [1961.042 ],\n",
              "       [1946.0181],\n",
              "       [1980.0901],\n",
              "       [1989.2817],\n",
              "       [2001.3076],\n",
              "       [1979.8312],\n",
              "       [1966.3403],\n",
              "       [1964.5304],\n",
              "       [1989.2183],\n",
              "       [1968.5303],\n",
              "       [1971.7046],\n",
              "       [1928.1462],\n",
              "       [1959.6572],\n",
              "       [2032.3142],\n",
              "       [1958.7505],\n",
              "       [1951.9701],\n",
              "       [1990.6885],\n",
              "       [1979.5142],\n",
              "       [1958.2698],\n",
              "       [1973.0181],\n",
              "       [1991.3381],\n",
              "       [1948.5383],\n",
              "       [1963.1194],\n",
              "       [1967.4698],\n",
              "       [1981.0925],\n",
              "       [1959.75  ],\n",
              "       [2000.4075],\n",
              "       [1967.9653],\n",
              "       [1957.3828],\n",
              "       [1957.4216],\n",
              "       [1971.9951],\n",
              "       [1973.2446],\n",
              "       [1974.216 ],\n",
              "       [1944.2351],\n",
              "       [1957.5641],\n",
              "       [2010.4017],\n",
              "       [1979.3743],\n",
              "       [1971.832 ],\n",
              "       [2000.3318],\n",
              "       [1989.9988],\n",
              "       [1994.7045],\n",
              "       [1975.4124],\n",
              "       [1952.1829],\n",
              "       [1980.469 ],\n",
              "       [1983.5894],\n",
              "       [1993.373 ],\n",
              "       [1957.229 ],\n",
              "       [1962.6595],\n",
              "       [1919.2761],\n",
              "       [1952.5571],\n",
              "       [2011.9629],\n",
              "       [1939.4062],\n",
              "       [1988.2656],\n",
              "       [1971.0369],\n",
              "       [2002.3193],\n",
              "       [1949.4219],\n",
              "       [1971.3628],\n",
              "       [2010.2253],\n",
              "       [1978.0334],\n",
              "       [1992.2438],\n",
              "       [1996.0015],\n",
              "       [1961.6221],\n",
              "       [1978.6545],\n",
              "       [1943.5867],\n",
              "       [1957.6975],\n",
              "       [1946.6318],\n",
              "       [2017.9666],\n",
              "       [1952.4224],\n",
              "       [1969.363 ],\n",
              "       [2000.598 ],\n",
              "       [1966.1111],\n",
              "       [1995.9636],\n",
              "       [1944.1328],\n",
              "       [1958.3826],\n",
              "       [1958.1145],\n",
              "       [1958.1648],\n",
              "       [1956.6172],\n",
              "       [1974.2417],\n",
              "       [1937.5859],\n",
              "       [1943.0106],\n",
              "       [1958.1318],\n",
              "       [1990.302 ],\n",
              "       [1983.5198],\n",
              "       [1988.2305],\n",
              "       [1988.1863],\n",
              "       [1959.5348],\n",
              "       [1971.3752],\n",
              "       [1991.0974],\n",
              "       [1988.2479],\n",
              "       [1952.9043],\n",
              "       [1972.2993],\n",
              "       [1943.1394],\n",
              "       [1989.1317],\n",
              "       [1985.7412],\n",
              "       [1959.5259],\n",
              "       [1956.863 ],\n",
              "       [1963.9094],\n",
              "       [1969.6641],\n",
              "       [1992.9106],\n",
              "       [1968.6498],\n",
              "       [1993.4628],\n",
              "       [1988.0511],\n",
              "       [1987.5237],\n",
              "       [1946.4277],\n",
              "       [1948.4238],\n",
              "       [1986.53  ],\n",
              "       [1973.7932],\n",
              "       [1953.4824],\n",
              "       [1996.2827],\n",
              "       [1951.1665],\n",
              "       [1996.701 ],\n",
              "       [1984.2683],\n",
              "       [1957.5237],\n",
              "       [1955.3105],\n",
              "       [1992.0544],\n",
              "       [1951.5591],\n",
              "       [1953.8594],\n",
              "       [1990.2456],\n",
              "       [2007.1047],\n",
              "       [1956.647 ],\n",
              "       [1989.0756],\n",
              "       [1958.9607],\n",
              "       [1956.0896],\n",
              "       [1991.2883],\n",
              "       [1962.6646],\n",
              "       [1992.719 ],\n",
              "       [1988.5251],\n",
              "       [1969.7434],\n",
              "       [2007.2976],\n",
              "       [1963.0483],\n",
              "       [1963.4384],\n",
              "       [1958.5541],\n",
              "       [1987.9402],\n",
              "       [1944.518 ],\n",
              "       [2001.4229],\n",
              "       [1958.564 ],\n",
              "       [1988.9465],\n",
              "       [1987.8146],\n",
              "       [1959.9299],\n",
              "       [1988.061 ],\n",
              "       [1971.4347],\n",
              "       [1957.1318],\n",
              "       [1986.0531],\n",
              "       [1976.6097],\n",
              "       [1999.13  ],\n",
              "       [1969.7056],\n",
              "       [1985.9038],\n",
              "       [1990.5934],\n",
              "       [2024.7334],\n",
              "       [1939.9514],\n",
              "       [1989.7557],\n",
              "       [1957.3853],\n",
              "       [1957.7625],\n",
              "       [1969.5903],\n",
              "       [1989.5677],\n",
              "       [1991.8081],\n",
              "       [1951.6865],\n",
              "       [1973.4388],\n",
              "       [1988.2755],\n",
              "       [1994.2812],\n",
              "       [1988.643 ],\n",
              "       [1984.837 ],\n",
              "       [1931.8486],\n",
              "       [1978.1678],\n",
              "       [1970.2168],\n",
              "       [1988.5378],\n",
              "       [1975.2278],\n",
              "       [1970.4487],\n",
              "       [1958.5134],\n",
              "       [1943.0669],\n",
              "       [1938.7551],\n",
              "       [1931.9553],\n",
              "       [1942.8635],\n",
              "       [1995.9575],\n",
              "       [1938.2963],\n",
              "       [1991.0569],\n",
              "       [1988.491 ],\n",
              "       [1988.3248],\n",
              "       [1981.1963],\n",
              "       [1959.2109],\n",
              "       [1992.061 ],\n",
              "       [1919.717 ],\n",
              "       [1962.8435],\n",
              "       [1990.7185],\n",
              "       [1927.7301],\n",
              "       [1950.6364],\n",
              "       [1984.6879],\n",
              "       [1963.6387],\n",
              "       [1963.0112],\n",
              "       [1960.5994],\n",
              "       [1960.0659],\n",
              "       [1980.5352],\n",
              "       [1951.1285],\n",
              "       [1981.6356],\n",
              "       [1951.0457],\n",
              "       [1976.1602],\n",
              "       [1934.5039],\n",
              "       [2006.7437],\n",
              "       [1944.5531],\n",
              "       [2005.5251],\n",
              "       [1988.8635],\n",
              "       [2015.6887],\n",
              "       [1961.9366],\n",
              "       [1958.6073],\n",
              "       [1991.9307],\n",
              "       [1990.9823],\n",
              "       [1965.5259],\n",
              "       [1992.5007],\n",
              "       [1944.7075],\n",
              "       [1963.9116],\n",
              "       [1991.4705],\n",
              "       [1966.3512],\n",
              "       [1948.5336],\n",
              "       [1992.5663],\n",
              "       [1986.852 ],\n",
              "       [1995.0981],\n",
              "       [1988.8936],\n",
              "       [1984.3276],\n",
              "       [1948.1506],\n",
              "       [1952.6018],\n",
              "       [1943.7671],\n",
              "       [1957.1636],\n",
              "       [1976.6663],\n",
              "       [1957.487 ],\n",
              "       [1956.1111],\n",
              "       [1962.2502],\n",
              "       [1988.7716],\n",
              "       [1993.0238],\n",
              "       [1939.5779],\n",
              "       [1993.9167],\n",
              "       [1975.8373],\n",
              "       [1992.2294],\n",
              "       [2006.8708],\n",
              "       [1946.9653],\n",
              "       [2003.8231],\n",
              "       [1953.3307],\n",
              "       [1984.7405],\n",
              "       [1994.689 ],\n",
              "       [1987.9081],\n",
              "       [1976.3693],\n",
              "       [1958.1284],\n",
              "       [1978.5186],\n",
              "       [1958.4917],\n",
              "       [1987.053 ],\n",
              "       [1994.2863],\n",
              "       [1969.5756],\n",
              "       [1964.7256],\n",
              "       [1991.6189],\n",
              "       [1952.2103],\n",
              "       [1972.9282],\n",
              "       [1984.1531],\n",
              "       [1955.1724],\n",
              "       [1957.3472],\n",
              "       [1964.0254],\n",
              "       [1957.0481],\n",
              "       [1944.6616],\n",
              "       [1943.5353],\n",
              "       [2002.3628],\n",
              "       [1943.1133],\n",
              "       [1975.3196],\n",
              "       [1968.9407],\n",
              "       [1945.5104],\n",
              "       [1970.1498],\n",
              "       [1956.8269],\n",
              "       [1988.0803],\n",
              "       [1958.7025],\n",
              "       [1995.5582],\n",
              "       [1951.8423],\n",
              "       [1974.6528],\n",
              "       [1991.0254],\n",
              "       [1988.8892],\n",
              "       [1963.5363],\n",
              "       [1996.2756],\n",
              "       [1977.592 ],\n",
              "       [1964.3062],\n",
              "       [1952.1643],\n",
              "       [1973.9897],\n",
              "       [1933.8617],\n",
              "       [1985.7903],\n",
              "       [1943.2856],\n",
              "       [1965.5659],\n",
              "       [1977.7188],\n",
              "       [1993.8087],\n",
              "       [1957.5486],\n",
              "       [1955.9995],\n",
              "       [1952.5781],\n",
              "       [2007.7686],\n",
              "       [1989.2201],\n",
              "       [1983.7864],\n",
              "       [1988.8566],\n",
              "       [1955.4526],\n",
              "       [1939.4078],\n",
              "       [1962.9786],\n",
              "       [1964.1133],\n",
              "       [1949.4553],\n",
              "       [1969.8123],\n",
              "       [1974.7515],\n",
              "       [1946.7037],\n",
              "       [1959.697 ],\n",
              "       [1973.6936],\n",
              "       [1957.4858],\n",
              "       [1983.4985],\n",
              "       [1928.9392],\n",
              "       [1989.1399],\n",
              "       [1944.6586],\n",
              "       [1969.1309],\n",
              "       [1989.5193],\n",
              "       [1976.1865],\n",
              "       [1952.4241],\n",
              "       [1944.0522],\n",
              "       [1989.4471],\n",
              "       [1970.7323],\n",
              "       [1940.0562],\n",
              "       [1959.5422],\n",
              "       [1980.8203],\n",
              "       [1963.0974],\n",
              "       [1975.4622],\n",
              "       [1989.3098],\n",
              "       [1954.7097],\n",
              "       [1973.5378],\n",
              "       [1931.4368],\n",
              "       [1949.4062],\n",
              "       [1935.9951],\n",
              "       [1987.1644],\n",
              "       [1991.3458],\n",
              "       [1965.3569],\n",
              "       [1964.4673],\n",
              "       [1973.6117],\n",
              "       [1944.0671],\n",
              "       [1991.6428],\n",
              "       [1968.6783],\n",
              "       [1978.176 ],\n",
              "       [1977.0388],\n",
              "       [1929.1116],\n",
              "       [1955.4719],\n",
              "       [1974.104 ],\n",
              "       [1956.4744],\n",
              "       [1947.0737],\n",
              "       [1957.1301],\n",
              "       [1943.4702],\n",
              "       [1968.0171],\n",
              "       [1972.6038],\n",
              "       [1981.1206],\n",
              "       [2025.689 ],\n",
              "       [1956.759 ],\n",
              "       [1937.5483],\n",
              "       [1923.1733],\n",
              "       [1988.5093],\n",
              "       [1987.4882],\n",
              "       [1948.0018],\n",
              "       [1992.7253],\n",
              "       [1951.4963],\n",
              "       [1994.5126],\n",
              "       [1950.8142],\n",
              "       [1964.1592],\n",
              "       [1951.4744],\n",
              "       [1996.0005],\n",
              "       [1933.5933],\n",
              "       [1989.0747],\n",
              "       [1941.0209],\n",
              "       [1987.7385],\n",
              "       [1990.5966],\n",
              "       [1988.2285],\n",
              "       [1968.7676],\n",
              "       [1960.06  ],\n",
              "       [1985.8306],\n",
              "       [1974.2106],\n",
              "       [1963.2832],\n",
              "       [1990.5676],\n",
              "       [1970.5029],\n",
              "       [1951.4546]], dtype=float32)"
            ]
          },
          "metadata": {
            "tags": []
          },
          "execution_count": 187
        }
      ]
    },
    {
      "cell_type": "markdown",
      "metadata": {
        "id": "DEbHXu5oPy78",
        "colab_type": "text"
      },
      "source": [
        "# Plotting the results"
      ]
    },
    {
      "cell_type": "code",
      "metadata": {
        "id": "qq-5IBcoBXes",
        "colab_type": "code",
        "colab": {
          "base_uri": "https://localhost:8080/",
          "height": 868
        },
        "outputId": "0d7a15ef-3967-40b2-fb1b-fe046d2e30a9"
      },
      "source": [
        "# plot training curve for R^2 (beware of scale, starts very low negative)\n",
        "plt.plot(hist.history['val_r_square'])\n",
        "plt.plot(hist.history['r_square'])\n",
        "plt.title('model R^2')\n",
        "plt.ylabel('R^2')\n",
        "plt.xlabel('epoch')\n",
        "plt.legend(['train', 'test'], loc='upper left')\n",
        "plt.show()\n",
        "           \n",
        "# plot training curve for rmse\n",
        "plt.plot(hist.history['rmse'])\n",
        "plt.plot(hist.history['val_rmse'])\n",
        "plt.title('rmse')\n",
        "plt.ylabel('rmse')\n",
        "plt.xlabel('epoch')\n",
        "plt.legend(['train', 'test'], loc='upper left')\n",
        "plt.show()\n",
        "\n",
        "# print the linear regression and display datapoints\n",
        "from sklearn.linear_model import LinearRegression  \n",
        "regressor = LinearRegression()  \n",
        "regressor.fit(y_test.reshape(-1,1), prediction)  \n",
        "y_fit = regressor.predict(prediction) \n",
        "\n",
        "reg_intercept = round(regressor.intercept_[0],4)\n",
        "reg_coef = round(regressor.coef_.flatten()[0],4)\n",
        "reg_label = \"y = \" + str(reg_intercept) + \"*x +\" + str(reg_coef)\n",
        "\n",
        "plt.scatter(y_test, prediction, color='blue', label= 'data')\n",
        "plt.plot(prediction, y_fit, color='red', linewidth=2, label = 'Linear regression\\n'+reg_label) \n",
        "plt.title('Linear Regression')\n",
        "plt.legend()\n",
        "plt.xlabel('observed')\n",
        "plt.ylabel('predicted')"
      ],
      "execution_count": 190,
      "outputs": [
        {
          "output_type": "display_data",
          "data": {
            "image/png": "[encoded data removed]",
            "text/plain": [
              "<Figure size 432x288 with 1 Axes>"
            ]
          },
          "metadata": {
            "tags": [],
            "needs_background": "light"
          }
        },
        {
          "output_type": "display_data",
          "data": {
            "image/png": "[encoded data removed]",
            "text/plain": [
              "<Figure size 432x288 with 1 Axes>"
            ]
          },
          "metadata": {
            "tags": [],
            "needs_background": "light"
          }
        },
        {
          "output_type": "execute_result",
          "data": {
            "text/plain": [
              "Text(0, 0.5, 'predicted')"
            ]
          },
          "metadata": {
            "tags": []
          },
          "execution_count": 190
        },
        {
          "output_type": "display_data",
          "data": {
            "image/png": "[encoded data removed]",
            "text/plain": [
              "<Figure size 432x288 with 1 Axes>"
            ]
          },
          "metadata": {
            "tags": [],
            "needs_background": "light"
          }
        }
      ]
    },
    {
      "cell_type": "markdown",
      "metadata": {
        "id": "UNtyEAQTQMkM",
        "colab_type": "text"
      },
      "source": [
        "Quick print of important metrics"
      ]
    },
    {
      "cell_type": "code",
      "metadata": {
        "id": "fKfWaz39BYbA",
        "colab_type": "code",
        "colab": {
          "base_uri": "https://localhost:8080/",
          "height": 119
        },
        "outputId": "4fee4f61-259c-4bbc-a984-48c31fa75341"
      },
      "source": [
        "import sklearn.metrics, math\n",
        "print(\"\\n\")\n",
        "print(\"Mean absolute error (MAE):      %f\" % sklearn.metrics.mean_absolute_error(y_test,prediction))\n",
        "print(\"Mean squared error (MSE):       %f\" % sklearn.metrics.mean_squared_error(y_test,prediction))\n",
        "print(\"Root mean squared error (RMSE): %f\" % math.sqrt(sklearn.metrics.mean_squared_error(y_test,prediction)))\n",
        "print(\"R square (R^2):                 %f\" % sklearn.metrics.r2_score(y_test,prediction))"
      ],
      "execution_count": 192,
      "outputs": [
        {
          "output_type": "stream",
          "text": [
            "\n",
            "\n",
            "Mean absolute error (MAE):      17.608564\n",
            "Mean squared error (MSE):       526.844912\n",
            "Root mean squared error (RMSE): 22.953102\n",
            "R square (R^2):                 0.398901\n"
          ],
          "name": "stdout"
        }
      ]
    },
    {
      "cell_type": "code",
      "metadata": {
        "id": "MI8FmLJENOYG",
        "colab_type": "code",
        "colab": {}
      },
      "source": [
        ""
      ],
      "execution_count": 0,
      "outputs": []
    }
  ]
}